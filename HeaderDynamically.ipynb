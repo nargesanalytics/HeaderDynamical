{
 "cells": [
  {
   "cell_type": "code",
   "execution_count": null,
   "id": "0211c012",
   "metadata": {},
   "outputs": [],
   "source": [
    "import csv\n",
    "import mysql.connector\n",
    "\n",
    "# Set up the database connection\n",
    "mydb = mysql.connector.connect(\n",
    "  host=\"localhost\",\n",
    "  user=\"yourusername\",\n",
    "  password=\"yourpassword\",\n",
    "  database=\"mydatabase\"\n",
    ")\n",
    "mycursor = mydb.cursor()\n",
    "\n",
    "# Read the CSV file\n",
    "with open('mydata.csv') as csvfile:\n",
    "    reader = csv.DictReader(csvfile)\n",
    "\n",
    "    # Get the headers dynamically from the CSV file\n",
    "    headers = reader.fieldnames\n",
    "\n",
    "    # Create the MySQL table with the headers\n",
    "    mycursor.execute(f\"CREATE TABLE mytable ({', '.join(headers)})\")\n",
    "\n",
    "    # Insert each row into the MySQL table\n",
    "    for row in reader:\n",
    "        values = [row[header] for header in headers]\n",
    "        placeholders = ', '.join(['%s'] * len(headers))\n",
    "        sql = f\"INSERT INTO mytable ({', '.join(headers)}) VALUES ({placeholders})\"\n",
    "        mycursor.execute(sql, values)\n",
    "\n",
    "# Commit changes and close the connection\n",
    "mydb.commit()\n",
    "mycursor.close()\n",
    "mydb.close()"
   ]
  }
 ],
 "metadata": {
  "kernelspec": {
   "display_name": "Python 3 (ipykernel)",
   "language": "python",
   "name": "python3"
  },
  "language_info": {
   "codemirror_mode": {
    "name": "ipython",
    "version": 3
   },
   "file_extension": ".py",
   "mimetype": "text/x-python",
   "name": "python",
   "nbconvert_exporter": "python",
   "pygments_lexer": "ipython3",
   "version": "3.9.13"
  }
 },
 "nbformat": 4,
 "nbformat_minor": 5
}
